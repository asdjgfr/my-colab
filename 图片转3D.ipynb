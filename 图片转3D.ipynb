{
  "nbformat": 4,
  "nbformat_minor": 0,
  "metadata": {
    "colab": {
      "name": "图片转3D.ipynb",
      "provenance": [],
      "collapsed_sections": [],
      "toc_visible": true,
      "include_colab_link": true
    },
    "kernelspec": {
      "name": "python3",
      "display_name": "Python 3"
    },
    "accelerator": "GPU"
  },
  "cells": [
    {
      "cell_type": "markdown",
      "metadata": {
        "id": "view-in-github",
        "colab_type": "text"
      },
      "source": [
        "<a href=\"https://colab.research.google.com/github/asdjgfr/my-colab/blob/master/%E5%9B%BE%E7%89%87%E8%BD%AC3D.ipynb\" target=\"_parent\"><img src=\"https://colab.research.google.com/assets/colab-badge.svg\" alt=\"Open In Colab\"/></a>"
      ]
    },
    {
      "cell_type": "markdown",
      "metadata": {
        "id": "IY-s3ZpHBeAU",
        "colab_type": "text"
      },
      "source": [
        "**[CVPR 2020] 利用Context-aware Layered把图片转换为3D**\n",
        "\n",
        "[项目地址](https://shihmengli.github.io/3D-Photo-Inpainting/)"
      ]
    },
    {
      "cell_type": "markdown",
      "metadata": {
        "id": "LPQ0EWxgvMIc",
        "colab_type": "text"
      },
      "source": [
        "# 准备环境\n"
      ]
    },
    {
      "cell_type": "markdown",
      "metadata": {
        "id": "CSHzndiLeeZB",
        "colab_type": "text"
      },
      "source": [
        "## 检查GPU"
      ]
    },
    {
      "cell_type": "code",
      "metadata": {
        "id": "VPbobQlrejk6",
        "colab_type": "code",
        "colab": {}
      },
      "source": [
        "# 检查当前GPU\n",
        "# 如果幸运的话，可以获得16GB的VRAM。\n",
        "# 16GB：可以处理720p。1080p将导致内存不足错误。\n",
        "# 8GB: 可以处理480p。720p将导致内存不足错误。\n",
        "\n",
        "# P100: 16GB （正常）\n",
        "# T4: 16GB （CUDA会失败）\n",
        "# P4: 8GB （正常）\n",
        "# K80: 8GB （部分依赖报错，运行正常）\n",
        "\n",
        "!nvidia-smi --query-gpu=gpu_name,driver_version,memory.total --format=csv"
      ],
      "execution_count": null,
      "outputs": []
    },
    {
      "cell_type": "markdown",
      "metadata": {
        "id": "lvckEokGenFb",
        "colab_type": "text"
      },
      "source": [
        "## 安装依赖"
      ]
    },
    {
      "cell_type": "code",
      "metadata": {
        "id": "5o-EIMeaghU0",
        "colab_type": "code",
        "colab": {}
      },
      "source": [
        "!pip3 install torch==1.4.0+cu100 torchvision==0.5.0+cu100 -f https://download.pytorch.org/whl/torch_stable.html\n",
        "!pip3 install opencv-python==4.2.0.32\n",
        "!pip3 install vispy==0.6.4\n",
        "!pip3 install moviepy==1.0.2\n",
        "!pip3 install transforms3d==0.3.1\n",
        "!pip3 install networkx==2.3\n",
        "!sudo apt install sed"
      ],
      "execution_count": null,
      "outputs": []
    },
    {
      "cell_type": "markdown",
      "metadata": {
        "id": "c-g7AeLMvY0R",
        "colab_type": "text"
      },
      "source": [
        "# 下载脚本并预训练模型\n"
      ]
    },
    {
      "cell_type": "code",
      "metadata": {
        "id": "cOFIBkWrBlNM",
        "colab_type": "code",
        "colab": {}
      },
      "source": [
        "%cd /content/\n",
        "!git clone https://github.com/vt-vl-lab/3d-photo-inpainting.git\n",
        "%cd 3d-photo-inpainting\n",
        "!sh download.sh"
      ],
      "execution_count": null,
      "outputs": []
    },
    {
      "cell_type": "markdown",
      "metadata": {
        "id": "D_Fg_aMeDnmd",
        "colab_type": "text"
      },
      "source": [
        "# 启用离屏渲染"
      ]
    },
    {
      "cell_type": "code",
      "metadata": {
        "id": "S9TmdOBRDXcV",
        "colab_type": "code",
        "colab": {}
      },
      "source": [
        "!sed -i 's/offscreen_rendering: True/offscreen_rendering: False/g' argument.yml"
      ],
      "execution_count": null,
      "outputs": []
    },
    {
      "cell_type": "markdown",
      "metadata": {
        "id": "FFIRvxhlfIn8",
        "colab_type": "text"
      },
      "source": [
        "# 上传图片"
      ]
    },
    {
      "cell_type": "markdown",
      "metadata": {
        "id": "cCN8L7GiDpZA",
        "colab_type": "text"
      },
      "source": [
        "**上传`.jpg` 文件到 `/content/3d-photo-inpainting-master/image/` 中**\n",
        "> 或者运行下面的代码来上传一张图片"
      ]
    },
    {
      "cell_type": "code",
      "metadata": {
        "id": "n-Kl6fo1oows",
        "colab_type": "code",
        "colab": {}
      },
      "source": [
        "%cd image\n",
        "from google.colab import files\n",
        "uploaded = files.upload()\n",
        "for fn in uploaded.keys():\n",
        "  print('User uploaded file \"{name}\" with length {length} bytes'.format(\n",
        "      name=fn, length=len(uploaded[fn])))\n",
        "%cd .."
      ],
      "execution_count": null,
      "outputs": []
    },
    {
      "cell_type": "markdown",
      "metadata": {
        "id": "wyLFopwVDzUg",
        "colab_type": "text"
      },
      "source": [
        "# 生成3D图片\n",
        "> 根据不同的硬件和图片会进行很长时间的计算"
      ]
    },
    {
      "cell_type": "code",
      "metadata": {
        "id": "i5-MWEjfBjYx",
        "colab_type": "code",
        "colab": {}
      },
      "source": [
        "!python main.py --config argument.yml"
      ],
      "execution_count": null,
      "outputs": []
    },
    {
      "cell_type": "markdown",
      "metadata": {
        "id": "pQIBdctnhhjO",
        "colab_type": "text"
      },
      "source": [
        "# 查看结果"
      ]
    },
    {
      "cell_type": "markdown",
      "metadata": {
        "id": "impU4ZUrpIzf",
        "colab_type": "text"
      },
      "source": [
        "> 深度贴图算法 by [MiDaS](https://github.com/intel-isl/MiDaS.git) - E.g. ```/content/3d-photo-inpainting/depth/moon.npy```"
      ]
    },
    {
      "cell_type": "markdown",
      "metadata": {
        "id": "wPvkMT0msIJB",
        "colab_type": "text"
      },
      "source": [
        "**最终的结果会输出在 `/content/3d-photo-inpainting/video/图片名称_效果.mp4` 中**\n",
        "\n",
        "##### 示例文件\n",
        "\n",
        "  - 修复的 3D 网格\n",
        "      - E.g. ```/content/3d-photo-inpainting/mesh/moon.ply```\n",
        "  - zoom-in 效果\n",
        "      - E.g. ```/content/3d-photo-inpainting/video/moon_zoom-in.mp4```\n",
        "  - swing  效果\n",
        "      - E.g. ```/content/3d-photo-inpainting/video/moon_swing.mp4```\n",
        "  - circle  效果\n",
        "      - E.g. ```/content/3d-photo-inpainting/video/moon_circle.mp4```"
      ]
    }
  ]
}