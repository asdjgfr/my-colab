{
  "nbformat": 4,
  "nbformat_minor": 0,
  "metadata": {
    "colab": {
      "name": "DAIN - AI自动补帧.ipynb",
      "provenance": [],
      "private_outputs": true,
      "collapsed_sections": [],
      "toc_visible": true,
      "include_colab_link": true
    },
    "kernelspec": {
      "name": "python3",
      "display_name": "Python 3"
    },
    "accelerator": "GPU"
  },
  "cells": [
    {
      "cell_type": "markdown",
      "metadata": {
        "id": "view-in-github",
        "colab_type": "text"
      },
      "source": [
        "<a href=\"https://colab.research.google.com/github/asdjgfr/my-colab/blob/master/DAIN_AI%E8%87%AA%E5%8A%A8%E8%A1%A5%E5%B8%A7.ipynb\" target=\"_parent\"><img src=\"https://colab.research.google.com/assets/colab-badge.svg\" alt=\"Open In Colab\"/></a>"
      ]
    },
    {
      "cell_type": "markdown",
      "metadata": {
        "id": "1pIo4r_Y8cMo",
        "colab_type": "text"
      },
      "source": [
        "# DAIN Colab 说明"
      ]
    },
    {
      "cell_type": "markdown",
      "metadata": {
        "id": "iGPHW5SOpPe3",
        "colab_type": "text"
      },
      "source": [
        "\n",
        "fork 来自:\n",
        "https://github.com/styler00dollar/DAIN\n",
        "\n",
        "\n",
        "说明：\n",
        "- 复制.ipynb文件到你的网盘。\n",
        "- 在谷歌云盘中新建名为\"DAIN\"的文件夹，或上下保持一致。\n",
        "- 在下一个单元格中更改配置。\n",
        "- 一张一张地运行单元格。\n",
        "\n",
        "需要改进的内容：\n",
        "- Alpha通道将被自动删除，并且不会重新添加。 与alpha相关的所有内容都会转换为黑色。\n",
        "- 添加速度选择。\n",
        "- 检测场景以避免插值场景变化。\n",
        "- 自动恢复。\n",
        "- 将“ start_frame”-“end_frame”音频从原始输入复制到最终输出。"
      ]
    },
    {
      "cell_type": "markdown",
      "metadata": {
        "id": "leOfNWLlV0Xz",
        "colab_type": "text"
      },
      "source": [
        "# 配置"
      ]
    },
    {
      "cell_type": "code",
      "metadata": {
        "id": "enKoi0TR2fOD",
        "colab_type": "code",
        "colab": {}
      },
      "source": [
        "################# 配置 ############################\n",
        "\n",
        "# INPUT_FILEPATH：输入文件的路径（相对于Google云盘的根目录）。\n",
        "# 例如，如果您将\"example.mkv\"文件保存在Google云盘中的\"videos\"文件夹中，则路径为：\n",
        "# videos/example.mkv\n",
        "INPUT_FILEPATH = \"DAIN/input.mp4\"\n",
        "\n",
        "# OUTPUT_FILE_PATH: 输出文件的路径（相对于Google云盘的根目录）。\n",
        "# 目标文件类型建议使用 mp4\n",
        "OUTPUT_FILE_PATH = \"DAIN/output.mp4\"\n",
        "\n",
        "################# DAIN 配置 ############################\n",
        "\n",
        "# TARGET_FPS：目标FPS\n",
        "TARGET_FPS = 90\n",
        "\n",
        "# 输入帧\n",
        "# 如果在Google云盘上有现成帧（00001.png, 00002.png）则改为云盘路径\n",
        "# Google云盘地址 `/content/gdrive/My Drive/`\n",
        "FRAME_INPUT_DIR = '/content/DAIN/input_frames'\n",
        "\n",
        "# 输出帧\n",
        "# 如果要将生成的帧存储到Google云盘，请使用GDrive中的位置。\n",
        "# Google云盘地址 `/content/gdrive/My Drive/`\n",
        "FRAME_OUTPUT_DIR = '/content/DAIN/output_frames'\n",
        "\n",
        "# 无缝循环\n",
        "# 通过将第一个帧也用作最后一个帧来创建无缝循环。\n",
        "SEAMLESS = False\n",
        "\n",
        "# 调整大小\n",
        "# 与原始输入帧相比，DAIN 帧有些“偏移/较小”。 调整大小可以部分缓解这种情况\n",
        "# 将帧设置为+2px的分辨率，并以起点（1,1）将结果裁剪为原始分辨率。\n",
        "# 如果没有此修复程序，DAIN往往会产生震动模糊，并且在诸如文本之类的静态元素中非常明显。\n",
        "# 用户可以更改插值方法。 建议使用方法cv2.INTER_CUBIC和cv2.INTER_LANCZOS4。\n",
        "# 当前默认值为 cv2.INTER_LANCZOS4.\n",
        "RESIZE_HOTFIX = True\n",
        "\n",
        "# ffmpeg生成视频后自动删除输出的PNG文件夹\n",
        "AUTO_REMOVE = False"
      ],
      "execution_count": null,
      "outputs": []
    },
    {
      "cell_type": "markdown",
      "metadata": {
        "id": "IUycqDpyWD9a",
        "colab_type": "text"
      },
      "source": [
        "# 挂载谷歌云盘"
      ]
    },
    {
      "cell_type": "code",
      "metadata": {
        "id": "N9cGwalNeyk9",
        "colab_type": "code",
        "colab": {}
      },
      "source": [
        "# 挂载Google云盘\n",
        "# 点击下方出现的链接获取授权码，然后填入输入框回车挂载\n",
        "# 挂载成功后在左侧目录中可以看到名为gdrive的文件夹\n",
        "from google.colab import drive\n",
        "drive.mount('/content/gdrive')\n",
        "print('谷歌云盘挂载成功！')"
      ],
      "execution_count": null,
      "outputs": []
    },
    {
      "cell_type": "markdown",
      "metadata": {
        "id": "bu-7ewd6WHhX",
        "colab_type": "text"
      },
      "source": [
        "# 检查GPU"
      ]
    },
    {
      "cell_type": "code",
      "metadata": {
        "id": "irzjv1x4e3S4",
        "colab_type": "code",
        "colab": {}
      },
      "source": [
        "# 检查当前GPU\n",
        "# 如果幸运的话，可以获得16GB的VRAM。VRAM很重要。VRAM越多，最大分辨率越高。\n",
        "\n",
        "# 16GB：可以处理720p。1080p将导致内存不足错误。\n",
        "# 8GB: 可以处理480p。720p将导致内存不足错误。\n",
        "\n",
        "# P100: 16GB （正常）\n",
        "# T4: 16GB （CUDA会失败）\n",
        "# P4: 8GB （正常）\n",
        "# K80: 8GB （未随机到这个GPU）\n",
        "\n",
        "!nvidia-smi --query-gpu=gpu_name,driver_version,memory.total --format=csv"
      ],
      "execution_count": null,
      "outputs": []
    },
    {
      "cell_type": "markdown",
      "metadata": {
        "id": "UYHTTP91oMvh",
        "colab_type": "text"
      },
      "source": [
        "# 安装依赖\n",
        "\n",
        "下一步可能需要15-20分钟。在启动时仅运行一次即可。\n"
      ]
    },
    {
      "cell_type": "code",
      "metadata": {
        "id": "UeaU8um5-2NS",
        "colab_type": "code",
        "colab": {}
      },
      "source": [
        "from IPython.display import clear_output\n",
        "!git clone https://github.com/asdjgfr/Colab-DAIN.git /content/DAIN\n",
        "\n",
        "# 这步可能需要15分钟\n",
        "# 构建 DAIN.\n",
        "%cd /content/DAIN/my_package/\n",
        "!./build.sh\n",
        "print(\"构建第一步成功！\")\n",
        "\n",
        "# 大概需要5分钟\n",
        "# Building DAIN PyTorch correlation package.\n",
        "%cd /content/DAIN/PWCNet/correlation_package_pytorch1_0\n",
        "!./build.sh\n",
        "print(\"构建第二步成功！\")\n",
        "\n",
        "# 下载 pre-trained 模型\n",
        "%cd /content/DAIN\n",
        "!mkdir model_weights\n",
        "!wget -O model_weights/best.pth http://vllab1.ucmerced.edu/~wenbobao/DAIN/best.pth\n",
        "# 如果上面失效可以使用备用地址：\n",
        "# !wget -O model_weights/best.pth https://www.2077tech.com/files/dain/best.pth\n",
        "\n",
        "!CUDA_VISIBLE_DEVICES=0\n",
        "\n",
        "!sudo apt-get install imagemagick imagemagick-doc"
      ],
      "execution_count": null,
      "outputs": []
    },
    {
      "cell_type": "markdown",
      "metadata": {
        "id": "PHugSRedVSdR",
        "colab_type": "text"
      },
      "source": [
        "# 检测FPS"
      ]
    },
    {
      "cell_type": "code",
      "metadata": {
        "id": "9YNva-GuKq4Y",
        "colab_type": "code",
        "colab": {}
      },
      "source": [
        "# 检测输入文件的FPS。\n",
        "%shell yes | cp -f /content/gdrive/My\\ Drive/{INPUT_FILEPATH} /content/DAIN/\n",
        "\n",
        "import os\n",
        "filename = os.path.basename(INPUT_FILEPATH)\n",
        "\n",
        "import cv2\n",
        "cap = cv2.VideoCapture(f'/content/DAIN/{filename}')\n",
        "\n",
        "fps = cap.get(cv2.CAP_PROP_FPS)\n",
        "\n",
        "if(fps/TARGET_FPS>0.5):\n",
        "  print(\"请定义一个更高的FPS，因为没有足够的时间用于新帧。旧FPS/新FPS应低于0.5，如果尝试补帧有可能会失败。\")"
      ],
      "execution_count": null,
      "outputs": []
    },
    {
      "cell_type": "markdown",
      "metadata": {
        "id": "_T5OMYXLVWAr",
        "colab_type": "text"
      },
      "source": [
        "# 提取帧数据"
      ]
    },
    {
      "cell_type": "code",
      "metadata": {
        "id": "miE1_fTGlSeY",
        "colab_type": "code",
        "colab": {}
      },
      "source": [
        "# ffmpeg 提取 - 从源文件生成单个帧的PNG文件。\n",
        "%shell rm -rf '{FRAME_INPUT_DIR}'\n",
        "%shell mkdir -p '{FRAME_INPUT_DIR}'\n",
        "\n",
        "%shell ffmpeg -i '/content/DAIN/{filename}' '{FRAME_INPUT_DIR}/%05d.png'\n",
        "\n",
        "png_generated_count_command_result = %shell ls '{FRAME_INPUT_DIR}' | wc -l\n",
        "clear_output()\n",
        "\n",
        "pngs_generated_count = int(png_generated_count_command_result.output.strip())\n",
        "\n",
        "import shutil\n",
        "if SEAMLESS==True:\n",
        "  pngs_generated_count += 1\n",
        "  original = str(FRAME_INPUT_DIR)+\"/00001.png\"\n",
        "  target = str(FRAME_INPUT_DIR)+\"/\"+str(pngs_generated_count).zfill(5)+\".png\"\n",
        "  shutil.copyfile(original, target)\n",
        "  \n",
        "print(f\"{pngs_generated_count} 帧 PNG 生成！\")\n",
        "\n",
        "# 检查图片是否拥有透明通道\n",
        "import subprocess as sp\n",
        "%cd {FRAME_INPUT_DIR}\n",
        "channels = sp.getoutput('identify -format %[channels] 00001.png')\n",
        "print (f\"{channels} 命中\")\n",
        "\n",
        "# 如果拥有透明通道则删除\n",
        "if \"a\" in channels:\n",
        "  print(\"检测到透明通道，即将删除！\")\n",
        "  print(sp.getoutput('find . -name \"*.png\" -exec convert \"{}\" -alpha off PNG24:\"{}\" \\;'))"
      ],
      "execution_count": null,
      "outputs": []
    },
    {
      "cell_type": "markdown",
      "metadata": {
        "id": "757oc5pTVZxh",
        "colab_type": "text"
      },
      "source": [
        "# 开始补帧"
      ]
    },
    {
      "cell_type": "code",
      "metadata": {
        "id": "W3rrE7L824gL",
        "colab_type": "code",
        "colab": {}
      },
      "source": [
        "# 补帧\n",
        "%shell mkdir -p '{FRAME_OUTPUT_DIR}'\n",
        "%cd /content/DAIN\n",
        "\n",
        "!python colab_interpolate.py --netName DAIN_slowmotion --time_step {fps/TARGET_FPS} --start_frame 1 --end_frame {pngs_generated_count} --frame_input_dir '{FRAME_INPUT_DIR}' --frame_output_dir '{FRAME_OUTPUT_DIR}'"
      ],
      "execution_count": null,
      "outputs": []
    },
    {
      "cell_type": "markdown",
      "metadata": {
        "id": "oIh89y-7cVUK",
        "colab_type": "text"
      },
      "source": [
        "# 复制补帧后的文件夹到谷歌云盘（可选）"
      ]
    },
    {
      "cell_type": "code",
      "metadata": {
        "id": "VJXMSovecfO5",
        "colab_type": "code",
        "colab": {}
      },
      "source": [
        "%shell rm -rf /content/gdrive/My\\ Drive/DAIN/output_frames\n",
        "%shell yes | cp -R -f /content/DAIN/output_frames /content/gdrive/My\\ Drive/DAIN/output_frames"
      ],
      "execution_count": null,
      "outputs": []
    },
    {
      "cell_type": "markdown",
      "metadata": {
        "id": "IF4U_tp6hivZ",
        "colab_type": "text"
      },
      "source": [
        "# 复制备份文件到补帧文件夹（可选）"
      ]
    },
    {
      "cell_type": "code",
      "metadata": {
        "id": "MhNHg0eYhn7a",
        "colab_type": "code",
        "colab": {}
      },
      "source": [
        "%shell yes | cp -R -f /content/gdrive/My\\ Drive/DAIN/output_frames /content/DAIN/output_frames"
      ],
      "execution_count": null,
      "outputs": []
    },
    {
      "cell_type": "markdown",
      "metadata": {
        "id": "N7Ibmav_VdZn",
        "colab_type": "text"
      },
      "source": [
        "# 优化匹配原始图像"
      ]
    },
    {
      "cell_type": "code",
      "metadata": {
        "id": "BSoD4SJXmKll",
        "colab_type": "code",
        "colab": {}
      },
      "source": [
        "# 查找DAIN帧，放大和裁剪以匹配原始图像\n",
        "import numpy as np\n",
        "%cd {FRAME_OUTPUT_DIR}\n",
        "if(RESIZE_HOTFIX==True):\n",
        "  images = []\n",
        "  for filename in os.listdir(f'{FRAME_OUTPUT_DIR}'):\n",
        "    img = cv2.imread(os.path.join(f'{FRAME_OUTPUT_DIR}',filename))\n",
        "    part_filename = os.path.splitext(filename)\n",
        "    if(part_filename[0].endswith('0')==False):\n",
        "      dimension = (img.shape[1]+2, img.shape[0]+2)\n",
        "      resized = cv2.resize(img, dimension, interpolation=cv2.INTER_LANCZOS4)\n",
        "      crop = resized[1:(dimension[1]-1), 1:(dimension[0]-1)]\n",
        "      cv2.imwrite(part_filename[0]+\".png\", crop)\n",
        "\n",
        "%cd /content/DAIN"
      ],
      "execution_count": null,
      "outputs": []
    },
    {
      "cell_type": "markdown",
      "metadata": {
        "id": "9p8w9FfNVcFQ",
        "colab_type": "text"
      },
      "source": [
        "# 无音频创建视频"
      ]
    },
    {
      "cell_type": "code",
      "metadata": {
        "id": "TKREDli2IDMV",
        "colab_type": "code",
        "colab": {}
      },
      "source": [
        "# 创建视频\n",
        "%cd {FRAME_OUTPUT_DIR}\n",
        "%shell ffmpeg -y -r {TARGET_FPS} -f image2 -pattern_type glob -i '*.png' '/content/gdrive/My Drive/{OUTPUT_FILE_PATH}'\n",
        "if(AUTO_REMOVE==True):\n",
        "  !rm -rf {FRAME_OUTPUT_DIR}/*"
      ],
      "execution_count": null,
      "outputs": []
    },
    {
      "cell_type": "markdown",
      "metadata": {
        "id": "H7QC8GTtVlT8",
        "colab_type": "text"
      },
      "source": [
        "# 有音频创建视频"
      ]
    },
    {
      "cell_type": "code",
      "metadata": {
        "id": "uCBHIXNN-JYu",
        "colab_type": "code",
        "colab": {}
      },
      "source": [
        "# 如果视频有声音则执行此单元格\n",
        "%cd {FRAME_OUTPUT_DIR}\n",
        "%shell ffmpeg -i '/content/gdrive/My Drive/{INPUT_FILEPATH}' -acodec copy output-audio.aac\n",
        "%shell ffmpeg -y -r {TARGET_FPS} -f image2 -pattern_type glob -i '*.png' -i output-audio.aac -shortest '/content/gdrive/My Drive/{OUTPUT_FILE_PATH}'\n",
        "if(AUTO_REMOVE==True):\n",
        "  !rm -rf {FRAME_OUTPUT_DIR}/*\n",
        "  !rm -rf output-audio.aac"
      ],
      "execution_count": null,
      "outputs": []
    },
    {
      "cell_type": "markdown",
      "metadata": {
        "id": "2At776LUVp1E",
        "colab_type": "text"
      },
      "source": [
        "# 删除输出帧文件夹"
      ]
    },
    {
      "cell_type": "code",
      "metadata": {
        "id": "gCfHegv5mjlM",
        "colab_type": "code",
        "colab": {}
      },
      "source": [
        "# 删除输出PNG文件夹（训练新视频之前执行）\n",
        "!rm -rf {FRAME_OUTPUT_DIR}/*"
      ],
      "execution_count": null,
      "outputs": []
    }
  ]
}